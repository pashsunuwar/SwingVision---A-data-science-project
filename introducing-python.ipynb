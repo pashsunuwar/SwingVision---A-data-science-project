{
 "cells": [
  {
   "cell_type": "markdown",
   "metadata": {
    "graffitiCellId": "id_6h8z85b",
    "slideshow": {
     "slide_type": "slide"
    }
   },
   "source": [
    "# 1 Introducing Python with Jupyter"
   ]
  },
  {
   "cell_type": "markdown",
   "metadata": {
    "graffitiCellId": "id_gqldg1t",
    "slideshow": {
     "slide_type": "subslide"
    }
   },
   "source": [
    "There are many ways to install Python. For Data Science, the easiest way to install both Python and the required packages is through the Anacanda distribution.\n",
    "\n",
    "Anaconda comes with several core elements:\n",
    "\n",
    "* A most recent version of Python 3 or Python 2 interpreter\n",
    "* `conda`, the package and environment manager for Python\n",
    "* An extensive collection of Python Data Science modules, including numpy, scipy and sklearn.\n",
    "\n",
    "\n",
    "The idea behind notebooks is that DOCUMENTATION comes first:\n",
    "* most of the area is dedicated to notes, and graphs, plots, etc.\n",
    "* Relatively *few* lines of code, overall\n",
    "\n",
    "Where in a std. software program, ~10k+ is common, while for data science, ~50 to 100 lines is adequate.\n",
    "\n",
    "If you need lots of lines of code, these are often put in an external file (module/library), with the notebook the output.\n",
    "\n",
    "__IMPORTANT THINGS TO NOTE__:\n",
    "* run order matters\n",
    "* must re-run earlier cells if later ones depend on them\n",
    "* jupyter lists run order next to cell "
   ]
  },
  {
   "cell_type": "markdown",
   "metadata": {},
   "source": [
    "## 1.1 Jupyter Commands"
   ]
  },
  {
   "cell_type": "markdown",
   "metadata": {
    "graffitiCellId": "id_2erx3jv",
    "slideshow": {
     "slide_type": "subslide"
    }
   },
   "source": [
    "To navigate effectively around your Jupyter notebook, there are a number of useful keyboard shortcuts:\n",
    "\n",
    "When in a Code cell:\n",
    "* To run the code in the cell - CTRL ENTER\n",
    "* To enter command mode('exit' the cell) - ESC\n",
    "* To get code suggestions/auto-complete statements - TAB\n",
    "\n",
    "When in a Markdown Cell:\n",
    "* To create heading fony sizes - \\# (the more the smaller the heading)\n",
    "* To make a list - \\*\n",
    "* To run/compile the markdown - CTRL ENTER\n",
    "\n",
    "When in Command mode:\n",
    "* To enter edit mode - ENTER\n",
    "* To navigate between cells - Up/Down arrow keys\n",
    "* To create a cell above - a\n",
    "* to create a cell below - b\n",
    "* To delete a cell - dd\n",
    "* To cut a cell - x\n",
    "* To make a cell markdown - m\n",
    "* To make cell code - y"
   ]
  },
  {
   "cell_type": "markdown",
   "metadata": {
    "graffitiCellId": "id_s8dhglt",
    "slideshow": {
     "slide_type": "slide"
    }
   },
   "source": [
    "## Python Overview\n",
    "* data \n",
    "* variables\n",
    "* operations\n",
    "* simple functions\n",
    "* objects\n",
    "* defining functions\n",
    "* data structure operations\n",
    "* libraries\n",
    "* conditions\n",
    "* loops\n",
    "\n",
    "* later on: numpy, pandas, matplotlib, sklearn "
   ]
  },
  {
   "cell_type": "markdown",
   "metadata": {
    "graffitiCellId": "id_lwspbj4",
    "slideshow": {
     "slide_type": "slide"
    }
   },
   "source": [
    "# 2 Data In Python"
   ]
  },
  {
   "cell_type": "markdown",
   "metadata": {},
   "source": [
    "## 2.1 Values and Objects - OOP\n",
    "\n",
    "All computer programs manipulate data, and thus every programming language provides a means for the programmer to represent data, as well as to reference data for later use.\n",
    "\n",
    "A __value__ in a program is a syntax term which appears on the right-hand-side (RHS) of an assigment operation.\n",
    "\n",
    "An __object__, in programming sense, is a type of in-memory data structure which contains not only the state or value of the entity the structure tries to represent (often referred to as \"fields\"), but also a set of actions the structure can perform (often referred to as \"methods\").\n",
    "\n",
    "Some of these methods could change the state of the fields within the object, while some could output information about this object; some can do both.\n",
    "\n",
    "Objects in programs are supposed to mimick real-life objects, in the sense that real-life objects have both states and things they can do. \n",
    "\n",
    "For example, a real-life pen can have a length, and a colour, these are its state. Two pens can have different length or colour—thus different states. A pen can also write things on paper. And the write functionality also depends on the colour of the pen—a red pen would draw a red line for example.\n",
    "\n",
    "In a program, an in-memory object representing a pen would have the same states (or fields/attributes), length and colour, and it will also have a method write(), whose behaviour is dependent on colour.\n",
    "\n",
    "Objects always have a type. There is a distinction between a particular red pen (an \"instance\"), and the type of pen. We can have multiple objects of the same type: we can have 2 red pens, 3 blue pens and so on, but a pen would always have a length, a colour, and the functionality of being able to write. On the other hand, a bicyle will have entirely different set of fields and methods.\n",
    "\n",
    "The object data structure allows a programer to write programs by treating it as a machine with many components, with each component being an object. And just like in real-word, different \"machines\" can share same components. Writing programs therefore is about definging the different object types, and creating instances of those types.\n",
    "\n",
    "In Python, all values are objects — in other words, all values in python are stored in memory with both a set of states and a set of methods."
   ]
  },
  {
   "cell_type": "markdown",
   "metadata": {},
   "source": [
    "## 2.2 Helpful Python built-in functions"
   ]
  },
  {
   "cell_type": "markdown",
   "metadata": {},
   "source": [
    "* `print()` converts any Python object to a string and print to standard output. For most built-in types, it will print out the expected human-readable values. For example, text objects (strings) will have their text printed out, and numbers will have their numerical values printed out."
   ]
  },
  {
   "cell_type": "code",
   "execution_count": 1,
   "metadata": {
    "graffitiCellId": "id_n65nz2j",
    "slideshow": {
     "slide_type": "fragment"
    }
   },
   "outputs": [],
   "source": [
    "print(\"Hello World\")"
   ]
  },
  {
   "cell_type": "markdown",
   "metadata": {},
   "source": [
    "* `id()` returns the unique memory location where the object is stored"
   ]
  },
  {
   "cell_type": "code",
   "execution_count": 2,
   "metadata": {},
   "outputs": [],
   "source": [
    "obj = 'Bob'\n",
    "print(obj)\n",
    "print(id(obj))"
   ]
  },
  {
   "cell_type": "markdown",
   "metadata": {},
   "source": [
    "* `type()` returns a reference to the type (referred to as a \"class\") of the object"
   ]
  },
  {
   "cell_type": "code",
   "execution_count": 3,
   "metadata": {},
   "outputs": [],
   "source": [
    "print(type(obj))"
   ]
  },
  {
   "cell_type": "markdown",
   "metadata": {},
   "source": [
    "* dir() returns the set of fields and methods associated with the object"
   ]
  },
  {
   "cell_type": "code",
   "execution_count": 4,
   "metadata": {},
   "outputs": [
    {
     "name": "stdout",
     "output_type": "stream",
     "text": [
      "['__add__', '__class__', '__contains__', '__delattr__', '__dir__', '__doc__', '__eq__', '__format__', '__ge__', '__getattribute__', '__getitem__', '__getnewargs__', '__gt__', '__hash__', '__init__', '__init_subclass__', '__iter__', '__le__', '__len__', '__lt__', '__mod__', '__mul__', '__ne__', '__new__', '__reduce__', '__reduce_ex__', '__repr__', '__rmod__', '__rmul__', '__setattr__', '__sizeof__', '__str__', '__subclasshook__', 'capitalize', 'casefold', 'center', 'count', 'encode', 'endswith', 'expandtabs', 'find', 'format', 'format_map', 'index', 'isalnum', 'isalpha', 'isascii', 'isdecimal', 'isdigit', 'isidentifier', 'islower', 'isnumeric', 'isprintable', 'isspace', 'istitle', 'isupper', 'join', 'ljust', 'lower', 'lstrip', 'maketrans', 'partition', 'replace', 'rfind', 'rindex', 'rjust', 'rpartition', 'rsplit', 'rstrip', 'split', 'splitlines', 'startswith', 'strip', 'swapcase', 'title', 'translate', 'upper', 'zfill']\n"
     ]
    }
   ],
   "source": [
    "print(dir(obj))"
   ]
  },
  {
   "cell_type": "markdown",
   "metadata": {},
   "source": [
    "Object fields and methods can be referenced using dot .. For example, text in Python are represented as string (str) objects, and every str object has a method called upper(), which outputs the upper-case version of text:"
   ]
  },
  {
   "cell_type": "code",
   "execution_count": 5,
   "metadata": {},
   "outputs": [
    {
     "name": "stdout",
     "output_type": "stream",
     "text": [
      "BOB\n"
     ]
    }
   ],
   "source": [
    "new = obj.upper()\n",
    "print(new)"
   ]
  },
  {
   "cell_type": "markdown",
   "metadata": {},
   "source": [
    "## Exercise:"
   ]
  },
  {
   "cell_type": "markdown",
   "metadata": {},
   "source": [
    "* #### assign your name to the variable called \"name\"\n",
    "* #### print out the id of the string object you have created\n",
    "* #### assign your occupation to the variable called \"job\"\n",
    "* #### Are the two objects the same? Check id of job\n",
    "* #### print the type of name\n",
    "* #### use dir() to list the attributes available to the object associated to name\n",
    "* ####  can we find the String method lower? Use help in REPL to look at what does lower() do\n",
    "* #### apply the lower() method to name and job, and print the output"
   ]
  },
  {
   "cell_type": "markdown",
   "metadata": {},
   "source": [
    "## Solution"
   ]
  },
  {
   "cell_type": "code",
   "execution_count": 6,
   "metadata": {},
   "outputs": [
    {
     "name": "stdout",
     "output_type": "stream",
     "text": [
      "4555279664\n",
      "4555279728\n",
      "<class 'str'>\n",
      "['__add__', '__class__', '__contains__', '__delattr__', '__dir__', '__doc__', '__eq__', '__format__', '__ge__', '__getattribute__', '__getitem__', '__getnewargs__', '__gt__', '__hash__', '__init__', '__init_subclass__', '__iter__', '__le__', '__len__', '__lt__', '__mod__', '__mul__', '__ne__', '__new__', '__reduce__', '__reduce_ex__', '__repr__', '__rmod__', '__rmul__', '__setattr__', '__sizeof__', '__str__', '__subclasshook__', 'capitalize', 'casefold', 'center', 'count', 'encode', 'endswith', 'expandtabs', 'find', 'format', 'format_map', 'index', 'isalnum', 'isalpha', 'isascii', 'isdecimal', 'isdigit', 'isidentifier', 'islower', 'isnumeric', 'isprintable', 'isspace', 'istitle', 'isupper', 'join', 'ljust', 'lower', 'lstrip', 'maketrans', 'partition', 'replace', 'rfind', 'rindex', 'rjust', 'rpartition', 'rsplit', 'rstrip', 'split', 'splitlines', 'startswith', 'strip', 'swapcase', 'title', 'translate', 'upper', 'zfill']\n",
      "Help on built-in function lower:\n",
      "\n",
      "lower() method of builtins.str instance\n",
      "    Return a copy of the string converted to lowercase.\n",
      "\n",
      "thomas holmes\n",
      "trainer\n"
     ]
    }
   ],
   "source": [
    "# TODO 1: assign your name to the variable called \"name\"\n",
    "name = 'Thomas Holmes'\n",
    "\n",
    "# TODO 2: print out the id of the string object you have created\n",
    "print(id(name))\n",
    "\n",
    "# TODO 3: assign your occupation to the variable called \"job\"\n",
    "job = 'Trainer'\n",
    "\n",
    "# TODO 4: Are the two objects the same? Check id of job\n",
    "print(id(job))\n",
    "\n",
    "# TODO 5: print the type of name\n",
    "print(type(name))\n",
    "\n",
    "# TODO 6: use dir() to list the attributes available to the object\n",
    "# associated to name\n",
    "print(dir(name))\n",
    "\n",
    "# TODO 7: can we find the method lower? Use help in REPL to look at\n",
    "# what does lower() do\n",
    "help(name.lower)\n",
    "\n",
    "# TODO 8: apply the lower() method to name and job, and print the\n",
    "# output\n",
    "print(name.lower())\n",
    "print(job.lower())"
   ]
  },
  {
   "cell_type": "markdown",
   "metadata": {},
   "source": [
    "# Types"
   ]
  },
  {
   "cell_type": "code",
   "execution_count": 7,
   "metadata": {
    "graffitiCellId": "id_mddkqlw",
    "slideshow": {
     "slide_type": "fragment"
    }
   },
   "outputs": [
    {
     "name": "stdout",
     "output_type": "stream",
     "text": [
      "5\n",
      "5.0\n",
      "5\n",
      "True\n",
      "['Lovers', 'Haters', 'Needers']\n"
     ]
    }
   ],
   "source": [
    "print(5)\n",
    "print(5.0)\n",
    "print(\"5\")\n",
    "print(True)\n",
    "print([\"Lovers\", \"Haters\", \"Needers\"])"
   ]
  },
  {
   "cell_type": "code",
   "execution_count": 8,
   "metadata": {
    "graffitiCellId": "id_eaw0qe7",
    "slideshow": {
     "slide_type": "fragment"
    }
   },
   "outputs": [
    {
     "name": "stdout",
     "output_type": "stream",
     "text": [
      "<class 'int'>\n",
      "<class 'float'>\n",
      "<class 'str'>\n",
      "<class 'bool'>\n",
      "<class 'list'>\n"
     ]
    }
   ],
   "source": [
    "print(type(5))\n",
    "print(type(5.0))\n",
    "print(type(\"5\"))\n",
    "print(type(True))\n",
    "print(type([\"Lovers\", \"Haters\", \"Needers\"]))"
   ]
  },
  {
   "cell_type": "markdown",
   "metadata": {
    "graffitiCellId": "id_2qqz5cp",
    "slideshow": {
     "slide_type": "slide"
    }
   },
   "source": [
    "# Operations"
   ]
  },
  {
   "cell_type": "markdown",
   "metadata": {
    "graffitiCellId": "id_t9idef3",
    "slideshow": {
     "slide_type": "skip"
    }
   },
   "source": [
    "###### Highlight the Python code and Click Play to execute the code snippet"
   ]
  },
  {
   "cell_type": "code",
   "execution_count": 9,
   "metadata": {
    "graffitiCellId": "id_7qvgwr0",
    "slideshow": {
     "slide_type": "subslide"
    }
   },
   "outputs": [
    {
     "name": "stdout",
     "output_type": "stream",
     "text": [
      "Thomas Holmes\n",
      "6\n",
      "8\n",
      "---\n",
      "True\n",
      "False\n",
      "['Eggs', 'Butter', 'Flour', 'Sugar']\n",
      "True\n"
     ]
    }
   ],
   "source": [
    "print( \"Thomas \" + \"Holmes\")\n",
    "print( 2 * 3 )\n",
    "print( 2 ** 3 )    # 2 * 2 * 2 = 2^3\n",
    "print( \"-\" * 3 )\n",
    "print( \"@\" in \"kofi.glover@qa.com\")\n",
    "print( True and False )\n",
    "print( [\"Eggs\", \"Butter\"] + [\"Flour\", \"Sugar\"] )\n",
    "print( 1.14 <=  2.13 )"
   ]
  },
  {
   "cell_type": "markdown",
   "metadata": {},
   "source": [
    "## Exercise:\n",
    "* Take the number 1\n",
    "* Add True to it\n",
    "* Compute the 4th power of the result\n",
    "* Convert the result to a string\n",
    "* 'Add' the string 3 to this\n",
    "* Convert the result to a float\n",
    "* Find the remainder when you divide this number by 3\n",
    "#### What is the final number?"
   ]
  },
  {
   "cell_type": "markdown",
   "metadata": {
    "graffitiCellId": "id_35yik7d",
    "slideshow": {
     "slide_type": "slide"
    }
   },
   "source": [
    "# Variables"
   ]
  },
  {
   "cell_type": "markdown",
   "metadata": {
    "graffitiCellId": "id_00s9e6u",
    "slideshow": {
     "slide_type": "skip"
    }
   },
   "source": [
    "###### Highlight the Python code and Click Play to execute the code snippet"
   ]
  },
  {
   "cell_type": "code",
   "execution_count": 10,
   "metadata": {
    "graffitiCellId": "id_etx7o4q",
    "slideshow": {
     "slide_type": "subslide"
    }
   },
   "outputs": [
    {
     "name": "stdout",
     "output_type": "stream",
     "text": [
      "Thomas 24 1.77\n",
      "['Data Science', 'Reading', 'Cycling', 'Eating']\n",
      "Thomas is alive: True\n",
      "Mean centimeters grown per year = 7.375\n",
      "Thomas is 24 and 177.0 cm\n"
     ]
    }
   ],
   "source": [
    "name = \"Thomas\"\n",
    "age = 24\n",
    "height = 1.77\n",
    "hobbies = [\"Data Science\", \"Reading\", \"Cycling\", \"Eating\"]\n",
    "is_alive = True\n",
    "\n",
    "print(name, age, height)  # print with multiple args = spaced output\n",
    "print(hobbies)\n",
    "print(name + \" is alive: \" + str(is_alive))\n",
    "\n",
    "mean_yearly_growth = 1.77/24 * 100\n",
    "print(\"Mean centimeters grown per year = \" + str(mean_yearly_growth))\n",
    "\n",
    "fmesg = f\"{name} is {age} and {height * 100} cm\" # formatted string\n",
    "\n",
    "print(fmesg)"
   ]
  },
  {
   "cell_type": "code",
   "execution_count": 11,
   "metadata": {
    "graffitiCellId": "id_hznxpkh",
    "slideshow": {
     "slide_type": "subslide"
    }
   },
   "outputs": [
    {
     "data": {
      "text/plain": [
       "25"
      ]
     },
     "execution_count": 11,
     "metadata": {},
     "output_type": "execute_result"
    }
   ],
   "source": [
    "age += 1\n",
    "\n",
    "age   # the last line of a jupyter cell is always printed"
   ]
  },
  {
   "cell_type": "markdown",
   "metadata": {
    "graffitiCellId": "id_dgjjon1"
   },
   "source": [
    "###### Highlight the Python code and Click Play to execute the code snippet"
   ]
  },
  {
   "cell_type": "markdown",
   "metadata": {
    "graffitiCellId": "id_qew89wg",
    "slideshow": {
     "slide_type": "subslide"
    }
   },
   "source": [
    "### Simple Functions\n",
    "\n",
    "Functions are blocks of code which perform some action (procedure) that we can call upon. They may be built-in or user defined. They may return an output, or they may not.\n",
    "\n",
    "output = fn(input)\n",
    "\n",
    "returnValue = procedure(requirements)\n",
    "\n",
    "makes a new value\n",
    "\n",
    "these are algorithms, not \"relationships between mathematical variables\""
   ]
  },
  {
   "cell_type": "code",
   "execution_count": 12,
   "metadata": {
    "graffitiCellId": "id_91hfxgy",
    "scrolled": true,
    "slideshow": {
     "slide_type": "subslide"
    }
   },
   "outputs": [
    {
     "name": "stdout",
     "output_type": "stream",
     "text": [
      "Thomas\n",
      "4520294448\n",
      "<class 'str'>\n",
      "6\n",
      "Thomas\n",
      "None\n"
     ]
    },
    {
     "data": {
      "text/plain": [
       "['abs',\n",
       " 'all',\n",
       " 'any',\n",
       " 'ascii',\n",
       " 'bin',\n",
       " 'bool',\n",
       " 'breakpoint',\n",
       " 'bytearray',\n",
       " 'bytes',\n",
       " 'callable',\n",
       " 'chr',\n",
       " 'classmethod',\n",
       " 'compile',\n",
       " 'complex',\n",
       " 'copyright',\n",
       " 'credits',\n",
       " 'delattr',\n",
       " 'dict',\n",
       " 'dir',\n",
       " 'display',\n",
       " 'divmod',\n",
       " 'enumerate',\n",
       " 'eval',\n",
       " 'exec',\n",
       " 'filter',\n",
       " 'float',\n",
       " 'format',\n",
       " 'frozenset',\n",
       " 'get_ipython',\n",
       " 'getattr',\n",
       " 'globals',\n",
       " 'hasattr',\n",
       " 'hash',\n",
       " 'help',\n",
       " 'hex',\n",
       " 'id',\n",
       " 'input',\n",
       " 'int',\n",
       " 'isinstance',\n",
       " 'issubclass',\n",
       " 'iter',\n",
       " 'len',\n",
       " 'license',\n",
       " 'list',\n",
       " 'locals',\n",
       " 'map',\n",
       " 'max',\n",
       " 'memoryview',\n",
       " 'min',\n",
       " 'next',\n",
       " 'object',\n",
       " 'oct',\n",
       " 'open',\n",
       " 'ord',\n",
       " 'pow',\n",
       " 'print',\n",
       " 'property',\n",
       " 'range',\n",
       " 'repr',\n",
       " 'reversed',\n",
       " 'round',\n",
       " 'set',\n",
       " 'setattr',\n",
       " 'slice',\n",
       " 'sorted',\n",
       " 'staticmethod',\n",
       " 'str',\n",
       " 'sum',\n",
       " 'super',\n",
       " 'tuple',\n",
       " 'type',\n",
       " 'vars',\n",
       " 'zip']"
      ]
     },
     "execution_count": 12,
     "metadata": {},
     "output_type": "execute_result"
    }
   ],
   "source": [
    "name = \"Thomas\"\n",
    "\n",
    "print(name)          # output the value of name\n",
    "print( id(name) )    # output the memory location of the value of name\n",
    "print( type(name) )  # output the type of the value of name\n",
    "print( len(name) )   # output the length of (the value of) name \n",
    "print(print(name))\n",
    "\n",
    "dir(__builtin__)[80:]"
   ]
  },
  {
   "cell_type": "markdown",
   "metadata": {},
   "source": [
    "## Exercise:\n",
    "* Pick one of the listed functions\n",
    "* Call the help function on it\n",
    "* Try to use it (If it looks complicated then pick another one!)"
   ]
  },
  {
   "cell_type": "markdown",
   "metadata": {},
   "source": [
    "## Solution:"
   ]
  },
  {
   "cell_type": "code",
   "execution_count": 13,
   "metadata": {},
   "outputs": [
    {
     "name": "stdout",
     "output_type": "stream",
     "text": [
      "Help on built-in function pow in module builtins:\n",
      "\n",
      "pow(x, y, z=None, /)\n",
      "    Equivalent to x**y (with two arguments) or x**y % z (with three arguments)\n",
      "    \n",
      "    Some types, such as ints, are able to use a more efficient algorithm when\n",
      "    invoked using the three argument form.\n",
      "\n"
     ]
    }
   ],
   "source": [
    "help(pow)"
   ]
  },
  {
   "cell_type": "markdown",
   "metadata": {
    "graffitiCellId": "id_ljm8tih",
    "slideshow": {
     "slide_type": "slide"
    }
   },
   "source": [
    "# Objects"
   ]
  },
  {
   "cell_type": "markdown",
   "metadata": {
    "graffitiCellId": "id_9cz7wsz",
    "slideshow": {
     "slide_type": "skip"
    }
   },
   "source": [
    "###### Highlight the Python code and Click Play to execute the code snippet"
   ]
  },
  {
   "cell_type": "code",
   "execution_count": 14,
   "metadata": {
    "graffitiCellId": "id_ipd1y1d",
    "slideshow": {
     "slide_type": "fragment"
    }
   },
   "outputs": [
    {
     "name": "stdout",
     "output_type": "stream",
     "text": [
      "THOMAS\n",
      "thomas\n",
      "True\n",
      "False\n"
     ]
    }
   ],
   "source": [
    "# data.operation(requirements)\n",
    "# obj.method(parameters)\n",
    "# ask name to upper() itself \n",
    "# ask name if it startswith(M)\n",
    "\n",
    "print( name.upper()  )\n",
    "print( name.lower()   )\n",
    "print( name.startswith(\"T\") )\n",
    "print( name.endswith(\"T\") )\n",
    "\n",
    "# all data in python is an object\n",
    "# objects are data structures:  values (properties), types (class), id, methods"
   ]
  },
  {
   "cell_type": "code",
   "execution_count": 15,
   "metadata": {
    "graffitiCellId": "id_bsadkld",
    "slideshow": {
     "slide_type": "fragment"
    }
   },
   "outputs": [
    {
     "data": {
      "text/plain": [
       "['swapcase', 'title', 'translate', 'upper', 'zfill']"
      ]
     },
     "execution_count": 15,
     "metadata": {},
     "output_type": "execute_result"
    }
   ],
   "source": [
    "dir(name)[-5:] # lists the last 5 attributes & methods of the object "
   ]
  },
  {
   "cell_type": "markdown",
   "metadata": {
    "graffitiCellId": "id_4dhdhfy"
   },
   "source": [
    "###### Highlight the Python code and Click Play to execute the code snippet"
   ]
  },
  {
   "cell_type": "markdown",
   "metadata": {
    "graffitiCellId": "id_ix5t7mi",
    "slideshow": {
     "slide_type": "slide"
    }
   },
   "source": [
    "## Exercise 1:\n",
    "* define variables of each type mentioned\n",
    "* they should describe you (name, age, location, etc.)\n",
    "\n",
    "* print these out\n",
    "* print all strings in upper case\n",
    "* print whether your age is over 18\n",
    "* print 10 dashes"
   ]
  },
  {
   "cell_type": "markdown",
   "metadata": {
    "graffitiCellId": "id_dpwwm1o",
    "slideshow": {
     "slide_type": "slide"
    }
   },
   "source": [
    "# Functions"
   ]
  },
  {
   "cell_type": "markdown",
   "metadata": {
    "graffitiCellId": "id_bqqjc9x",
    "slideshow": {
     "slide_type": "skip"
    }
   },
   "source": [
    "###### Highlight the Python code and Click Play to execute the code snippet"
   ]
  },
  {
   "cell_type": "markdown",
   "metadata": {
    "graffitiCellId": "id_jvhiwzf",
    "slideshow": {
     "slide_type": "subslide"
    }
   },
   "source": [
    "### Defining Functions\n",
    "* algorithm can be used to calculate the value of a mathematical function...\n",
    "\n",
    "* error(pred, obv) = (pred - obv)^2  (known as the MSE, or, Mean Square Error)\n",
    "\n",
    "* def error(pred, obv)                <- LHS of math\n",
    "* return (pred - obv)^2               <- RHS of math  (return aprox., = )\n",
    "\n",
    "* return actually means store calcuated value in memory "
   ]
  },
  {
   "cell_type": "code",
   "execution_count": 16,
   "metadata": {
    "graffitiCellId": "id_zv74rst",
    "slideshow": {
     "slide_type": "subslide"
    }
   },
   "outputs": [
    {
     "data": {
      "text/plain": [
       "0.0899999999999999"
      ]
     },
     "execution_count": 16,
     "metadata": {},
     "output_type": "execute_result"
    }
   ],
   "source": [
    "def error(pred, obv):\n",
    "    return (pred - obv) ** 2\n",
    "\n",
    "error(3, 3.3)"
   ]
  },
  {
   "cell_type": "markdown",
   "metadata": {
    "graffitiCellId": "id_eyn6dbd",
    "slideshow": {
     "slide_type": "subslide"
    }
   },
   "source": [
    "* indendation groups operations together\n",
    "* def defines a function\n",
    "* parameters are listed after the function name\n",
    "* one new line after the definintion ends the def. \n",
    "* notice colon before indentation"
   ]
  },
  {
   "cell_type": "markdown",
   "metadata": {
    "graffitiCellId": "id_mysx7e2",
    "slideshow": {
     "slide_type": "skip"
    }
   },
   "source": [
    "###### Highlight the Python code and Click Play to execute the code snippet"
   ]
  },
  {
   "cell_type": "code",
   "execution_count": 17,
   "metadata": {
    "graffitiCellId": "id_btwewgl",
    "slideshow": {
     "slide_type": "subslide"
    }
   },
   "outputs": [
    {
     "name": "stdout",
     "output_type": "stream",
     "text": [
      "----------\n",
      "[12, 12, 15]\n",
      "----------\n",
      "4.4\n",
      "----------\n",
      "[10, 12]\n",
      "----------\n",
      "<class 'NoneType'>\n",
      "None\n"
     ]
    }
   ],
   "source": [
    "# functions = procedures\n",
    "# can also not return anything\n",
    "\n",
    "def show_results(results):\n",
    "    print(\"-\" * 10)\n",
    "    print(results)\n",
    "    print(\"-\" * 10)\n",
    "    \n",
    "show_results([12, 12, 15])   # writes to screen, but has no return value\n",
    "\n",
    "def distance(x1, x2):\n",
    "    return (x2 - x1) ** 2   # euclidean distance, aka. L2 norm\n",
    "    \n",
    "\n",
    "dist = distance(10, 12)\n",
    "print(dist * 1.1)  # calculated value can be stored in variable\n",
    "\n",
    "\n",
    "rtn = show_results([10, 12])\n",
    "\n",
    "print(type(rtn))\n",
    "print(rtn) # nothing is stored here, no return value"
   ]
  },
  {
   "cell_type": "markdown",
   "metadata": {
    "graffitiCellId": "id_gshkhyv",
    "slideshow": {
     "slide_type": "skip"
    }
   },
   "source": [
    "###### Highlight the Python code and Click Play to execute the code snippet"
   ]
  },
  {
   "cell_type": "markdown",
   "metadata": {
    "graffitiCellId": "id_khzovon",
    "slideshow": {
     "slide_type": "slide"
    }
   },
   "source": [
    "### Exercise 2:\n",
    "define a function called :\n",
    "\n",
    "* mean which takes three parameters and returns their mean\n",
    "* cube which cubes its first argument\n",
    "* is_adult which says whetehr its first argument is more than 18 \n",
    "\n",
    "\n",
    "\n",
    "* define three variables:   \n",
    "* mean_ages  which is mean of 18,18,20 \n",
    "* two_later which is 2 cubed\n",
    "* teen_is_adult which is whether an age of 15 is adult\n",
    "\n",
    "\n",
    "* define function show() \n",
    "* which prints the three variables above "
   ]
  },
  {
   "cell_type": "markdown",
   "metadata": {
    "graffitiCellId": "id_5z1rkma",
    "slideshow": {
     "slide_type": "skip"
    }
   },
   "source": [
    "###### Highlight the Python code and Click Play to execute the code snippet"
   ]
  },
  {
   "cell_type": "code",
   "execution_count": 18,
   "metadata": {
    "graffitiCellId": "id_v0pk59z",
    "slideshow": {
     "slide_type": "subslide"
    }
   },
   "outputs": [
    {
     "name": "stdout",
     "output_type": "stream",
     "text": [
      "mean: 18.666666666666668\n",
      "cube: 8\n",
      "age: False\n"
     ]
    }
   ],
   "source": [
    "def mean(x, y, z):\n",
    "    return (x + y + z)/3\n",
    "\n",
    "def cube(x):\n",
    "    return x ** 3\n",
    "\n",
    "def is_adult(age):\n",
    "    return age >= 18\n",
    "\n",
    "\n",
    "def show(m, c, a):\n",
    "    print(\"mean:\", m)\n",
    "    print(\"cube:\", c)\n",
    "    print(\"age:\", a)\n",
    "    \n",
    "mean_ages = mean(18,18,20)\n",
    "two_late = cube(2)\n",
    "teen = is_adult(15)\n",
    "\n",
    "show(mean_ages, two_late, teen)"
   ]
  },
  {
   "cell_type": "markdown",
   "metadata": {
    "graffitiCellId": "id_tzr73uz",
    "slideshow": {
     "slide_type": "skip"
    }
   },
   "source": [
    "###### Highlight the Python code and Click Play to execute the code snippet"
   ]
  },
  {
   "cell_type": "markdown",
   "metadata": {
    "graffitiCellId": "id_sp7hkjb",
    "slideshow": {
     "slide_type": "slide"
    }
   },
   "source": [
    "### Data Structures\n",
    "* strings - groups of characters\n",
    "* lists - ordered groups of data where each element is indexed by an int\n",
    "* sets - unordered groups of data where there is no indexing\n",
    "* tuples - uneditable (immutable) groups of data where elements are int-indexed\n",
    "* dictionaries - groups of data where indexes are chosen by you"
   ]
  },
  {
   "cell_type": "markdown",
   "metadata": {
    "graffitiCellId": "id_ik71c2w",
    "slideshow": {
     "slide_type": "skip"
    }
   },
   "source": [
    "###### Highlight the Python code and Click Play to execute the code snippet"
   ]
  },
  {
   "cell_type": "code",
   "execution_count": 19,
   "metadata": {
    "graffitiCellId": "id_04v3it3",
    "slideshow": {
     "slide_type": "fragment"
    }
   },
   "outputs": [
    {
     "name": "stdout",
     "output_type": "stream",
     "text": [
      "B\n",
      "e\n",
      "d\n",
      "!\n"
     ]
    }
   ],
   "source": [
    "# strings\n",
    "\n",
    "quote = \"Be the change you wish to see in the world!\"\n",
    "\n",
    "print( quote[0] )   # first\n",
    "print( quote[1] )   # second\n",
    "print( quote[-2] )  # second from last\n",
    "print( quote[-1] )  # last"
   ]
  },
  {
   "cell_type": "code",
   "execution_count": 20,
   "metadata": {
    "graffitiCellId": "id_jzmhcin",
    "slideshow": {
     "slide_type": "fragment"
    }
   },
   "outputs": [
    {
     "name": "stdout",
     "output_type": "stream",
     "text": [
      "Be\n"
     ]
    }
   ],
   "source": [
    "print( quote[0:2] ) "
   ]
  },
  {
   "cell_type": "code",
   "execution_count": 21,
   "metadata": {
    "graffitiCellId": "id_krre8vd",
    "slideshow": {
     "slide_type": "fragment"
    }
   },
   "outputs": [
    {
     "name": "stdout",
     "output_type": "stream",
     "text": [
      "Be the change you wish to see in the \n"
     ]
    }
   ],
   "source": [
    "print( quote[0:-6] ) # "
   ]
  },
  {
   "cell_type": "code",
   "execution_count": 22,
   "metadata": {
    "graffitiCellId": "id_35m1h9h",
    "slideshow": {
     "slide_type": "fragment"
    }
   },
   "outputs": [
    {
     "name": "stdout",
     "output_type": "stream",
     "text": [
      "Be the change you wish to see in the bedroom\n"
     ]
    }
   ],
   "source": [
    "print( quote[0:-6]  + \"bedroom\" )"
   ]
  },
  {
   "cell_type": "code",
   "execution_count": 23,
   "metadata": {
    "graffitiCellId": "id_9ufw90a",
    "slideshow": {
     "slide_type": "fragment"
    }
   },
   "outputs": [
    {
     "name": "stdout",
     "output_type": "stream",
     "text": [
      "Be\n",
      "world!\n"
     ]
    }
   ],
   "source": [
    "print(quote[:2])   \n",
    "print(quote[-6:] )  # "
   ]
  },
  {
   "cell_type": "code",
   "execution_count": 24,
   "metadata": {},
   "outputs": [
    {
     "data": {
      "text/plain": [
       "'B h hneyuws osei h ol!'"
      ]
     },
     "execution_count": 24,
     "metadata": {},
     "output_type": "execute_result"
    }
   ],
   "source": [
    "quote[::2]"
   ]
  },
  {
   "cell_type": "markdown",
   "metadata": {
    "graffitiCellId": "id_2258h2m",
    "slideshow": {
     "slide_type": "skip"
    }
   },
   "source": [
    "###### Highlight the Python code and Click Play to execute the code snippet"
   ]
  },
  {
   "cell_type": "code",
   "execution_count": 25,
   "metadata": {
    "graffitiCellId": "id_spz8pv6",
    "slideshow": {
     "slide_type": "subslide"
    }
   },
   "outputs": [
    {
     "name": "stdout",
     "output_type": "stream",
     "text": [
      "10\n",
      "20\n",
      "30\n",
      "(10, 20)\n",
      "('OldSt', 'London')\n"
     ]
    }
   ],
   "source": [
    "# tuple\n",
    "\n",
    "point = (10, 20, 30)\n",
    "\n",
    "print( point[0] )\n",
    "print( point[1] )\n",
    "print( point[-1] )\n",
    "\n",
    "print( point[0:2] ) #slice, as with strings\n",
    "\n",
    "# point[0] = 15 # error: not allowed to overwrite\n",
    "\n",
    "# technically, () not required...\n",
    "\n",
    "address = \"OldSt\", \"London\"\n",
    "\n",
    "print(address)"
   ]
  },
  {
   "cell_type": "code",
   "execution_count": null,
   "metadata": {},
   "outputs": [],
   "source": []
  },
  {
   "cell_type": "markdown",
   "metadata": {
    "graffitiCellId": "id_o0c06oc",
    "slideshow": {
     "slide_type": "skip"
    }
   },
   "source": [
    "###### Highlight the Python code and Click Play to execute the code snippet"
   ]
  },
  {
   "cell_type": "code",
   "execution_count": 26,
   "metadata": {
    "graffitiCellId": "id_nfns8jy",
    "slideshow": {
     "slide_type": "subslide"
    }
   },
   "outputs": [
    {
     "name": "stdout",
     "output_type": "stream",
     "text": [
      "[300, 1000, 'London', ('Old Street', 'London')]\n",
      "4\n",
      "('Old Street', 'London')\n",
      "2\n"
     ]
    }
   ],
   "source": [
    "# lists\n",
    "# y target customer satisfaction\n",
    "# x customer features \n",
    "# (days-since-first-purchase, total-spent, nearest-store, addresss)\n",
    "#  \n",
    "\n",
    "x = [300, 1000, \"London\", (\"Old Street\", \"London\")]\n",
    "\n",
    "print(x)\n",
    "print(len(x))\n",
    "\n",
    "print(x[-1])\n",
    "print(len(x[-1]))\n",
    "\n"
   ]
  },
  {
   "cell_type": "code",
   "execution_count": 27,
   "metadata": {
    "graffitiCellId": "id_63qv26q",
    "slideshow": {
     "slide_type": "fragment"
    }
   },
   "outputs": [
    {
     "data": {
      "text/plain": [
       "[300, 1000, 'London', ('Old Street', 'London'), 1]"
      ]
     },
     "execution_count": 27,
     "metadata": {},
     "output_type": "execute_result"
    }
   ],
   "source": [
    "x.append(1)\n",
    "x"
   ]
  },
  {
   "cell_type": "code",
   "execution_count": 28,
   "metadata": {
    "graffitiCellId": "id_hrt3m6v",
    "slideshow": {
     "slide_type": "fragment"
    }
   },
   "outputs": [
    {
     "data": {
      "text/plain": [
       "1"
      ]
     },
     "execution_count": 28,
     "metadata": {},
     "output_type": "execute_result"
    }
   ],
   "source": [
    "x.pop()"
   ]
  },
  {
   "cell_type": "code",
   "execution_count": 29,
   "metadata": {
    "graffitiCellId": "id_rn2pudk",
    "slideshow": {
     "slide_type": "fragment"
    }
   },
   "outputs": [
    {
     "name": "stdout",
     "output_type": "stream",
     "text": [
      "[300, 1000, 'London', ('Old Street', 'London')]\n",
      "[1, 300, 1000, 'London', ('Old Street', 'London')]\n"
     ]
    }
   ],
   "source": [
    "print(x)\n",
    "x.insert(0, 1) # insert at postn 0, the element 1\n",
    "\n",
    "print(x)"
   ]
  },
  {
   "cell_type": "markdown",
   "metadata": {},
   "source": [
    "### Sets"
   ]
  },
  {
   "cell_type": "markdown",
   "metadata": {
    "graffitiCellId": "id_wsk1pgs",
    "slideshow": {
     "slide_type": "skip"
    }
   },
   "source": [
    "###### Highlight the Python code and Click Play to execute the code snippet"
   ]
  },
  {
   "cell_type": "markdown",
   "metadata": {
    "graffitiCellId": "id_pmpnyrf",
    "slideshow": {
     "slide_type": "slide"
    }
   },
   "source": [
    "### Using Lists in Functions"
   ]
  },
  {
   "cell_type": "code",
   "execution_count": 30,
   "metadata": {
    "graffitiCellId": "id_a2vvojn",
    "slideshow": {
     "slide_type": "fragment"
    }
   },
   "outputs": [],
   "source": [
    "def error(y_pred, y, i):\n",
    "    return (y_pred - y[i]) ** 2"
   ]
  },
  {
   "cell_type": "code",
   "execution_count": 31,
   "metadata": {
    "graffitiCellId": "id_636e5d0",
    "slideshow": {
     "slide_type": "fragment"
    }
   },
   "outputs": [
    {
     "data": {
      "text/plain": [
       "0.6399999999999997"
      ]
     },
     "execution_count": 31,
     "metadata": {},
     "output_type": "execute_result"
    }
   ],
   "source": [
    "y = [2, 3, 5, 8]\n",
    "guess = 2.2\n",
    "\n",
    "error(guess, y, 1)   #   (2.2 - 3) ** 2"
   ]
  },
  {
   "cell_type": "markdown",
   "metadata": {
    "graffitiCellId": "id_y8x1ixh",
    "slideshow": {
     "slide_type": "skip"
    }
   },
   "source": [
    "###### Highlight the Python code and Click Play to execute the code snippet"
   ]
  },
  {
   "cell_type": "markdown",
   "metadata": {
    "graffitiCellId": "id_9775rav",
    "slideshow": {
     "slide_type": "subslide"
    }
   },
   "source": [
    "## Exericse 3:  Collections\n",
    "* define a tuple \"weekday\" which contains the first letter of each weekday(in order)\n",
    "* try to add a new day to the week (expect an error)\n",
    "* print out the first, last and middle two days\n",
    "\n",
    "\n",
    "* define a list \"cart\" which is a shopping cart\n",
    "* add several items to it\n",
    "* print out the first, last and middle two items\n",
    "\n",
    "\n",
    "* Define a set containing 3 unique numbers\n",
    "* check the set contains one of the numbers using conatins/in\n",
    "* try to insert a new number\n",
    "* Create a set containing 5 numbers, 3 of which are the same\n",
    "* print the above\n",
    "\n",
    "\n",
    "* Try to add a new item at the start of eac list"
   ]
  },
  {
   "cell_type": "markdown",
   "metadata": {
    "graffitiCellId": "id_amvew99",
    "slideshow": {
     "slide_type": "skip"
    }
   },
   "source": [
    "###### Highlight the Python code and Click Play to execute the code snippet"
   ]
  },
  {
   "cell_type": "markdown",
   "metadata": {
    "graffitiCellId": "id_95cpghz",
    "slideshow": {
     "slide_type": "subslide"
    }
   },
   "source": [
    "### Dictionaries\n",
    "* key-value data structures\n",
    "* where the keys are defined by you (generally strings)"
   ]
  },
  {
   "cell_type": "code",
   "execution_count": 32,
   "metadata": {
    "graffitiCellId": "id_8d7q51m",
    "slideshow": {
     "slide_type": "fragment"
    }
   },
   "outputs": [
    {
     "name": "stdout",
     "output_type": "stream",
     "text": [
      "Thomas\n",
      "24\n",
      "uk\n"
     ]
    }
   ],
   "source": [
    "user = {\n",
    "    \"name\": \"Thomas\",\n",
    "    \"age\": 24,\n",
    "    \"location\": \"uk\"\n",
    "}\n",
    "\n",
    "print(user[\"name\"])     # use string keys to look up value rather than int index\n",
    "print(user[\"age\"])\n",
    "print(user[\"location\"])"
   ]
  },
  {
   "cell_type": "code",
   "execution_count": 33,
   "metadata": {
    "graffitiCellId": "id_w4qs62z",
    "slideshow": {
     "slide_type": "fragment"
    }
   },
   "outputs": [
    {
     "data": {
      "text/plain": [
       "'Fraud'"
      ]
     },
     "execution_count": 33,
     "metadata": {},
     "output_type": "execute_result"
    }
   ],
   "source": [
    "# data science example: labelling for Fraud|NotFraud\n",
    "# dict keys can be lots of diff. thigns, not just strings...\n",
    "# but must be unique!\n",
    "\n",
    "\n",
    "# key = (age, days-since-purchase-of-insurance)  \n",
    "user = {\n",
    "    (18, 13) : \"Fraud\",\n",
    "    (60, 300) : \"NotFraud\"\n",
    "}\n",
    "\n",
    "user[(18, 13)]"
   ]
  },
  {
   "cell_type": "code",
   "execution_count": 34,
   "metadata": {
    "graffitiCellId": "id_70uhkvw",
    "slideshow": {
     "slide_type": "fragment"
    }
   },
   "outputs": [
    {
     "data": {
      "text/plain": [
       "39.0"
      ]
     },
     "execution_count": 34,
     "metadata": {},
     "output_type": "execute_result"
    }
   ],
   "source": [
    "# dictionaries more commonly are more like matrices...\n",
    "\n",
    "users = {\n",
    "    \"age-at-purchase\": [18, 60],\n",
    "    \"days-from-purcahse\": [13, 300]\n",
    "}\n",
    "\n",
    "ages = users['age-at-purchase']\n",
    "\n",
    "sum(ages)/len(ages)"
   ]
  },
  {
   "cell_type": "markdown",
   "metadata": {},
   "source": [
    "## Exercise:\n",
    "Create a dictionary containing a list of foods you like, and a list of foods you do not like (3 will do)"
   ]
  },
  {
   "cell_type": "markdown",
   "metadata": {
    "graffitiCellId": "id_c45pu5d",
    "slideshow": {
     "slide_type": "slide"
    }
   },
   "source": [
    "### Control Flow"
   ]
  },
  {
   "cell_type": "markdown",
   "metadata": {
    "graffitiCellId": "id_3oq9j06",
    "slideshow": {
     "slide_type": "skip"
    }
   },
   "source": [
    "###### Highlight the Python code and Click Play to execute the code snippet"
   ]
  },
  {
   "cell_type": "code",
   "execution_count": 35,
   "metadata": {
    "graffitiCellId": "id_vtsvpi9",
    "slideshow": {
     "slide_type": "subslide"
    }
   },
   "outputs": [
    {
     "name": "stdout",
     "output_type": "stream",
     "text": [
      "See Education Plans\n"
     ]
    }
   ],
   "source": [
    "user_age = 18\n",
    "\n",
    "if user_age > 65:                      # colons\n",
    "    print(\"See Retirement Plans\")      # indentation\n",
    "elif user_age > 21:                    # keyword, elif\n",
    "    print(\"See Vocation Plans\")\n",
    "elif user_age > 13:\n",
    "    print(\"See Education Plans\")\n",
    "else:\n",
    "    print(\"See your mother!\")\n",
    "    "
   ]
  },
  {
   "cell_type": "markdown",
   "metadata": {
    "graffitiCellId": "id_whc5pex",
    "slideshow": {
     "slide_type": "skip"
    }
   },
   "source": [
    "###### Highlight the Python code and Click Play to execute the code snippet"
   ]
  },
  {
   "cell_type": "code",
   "execution_count": 36,
   "metadata": {
    "graffitiCellId": "id_arffb5d",
    "slideshow": {
     "slide_type": "fragment"
    }
   },
   "outputs": [
    {
     "name": "stdout",
     "output_type": "stream",
     "text": [
      "1\n",
      "8\n",
      "7\n",
      "6\n",
      "5\n",
      "5\n"
     ]
    }
   ],
   "source": [
    "# while loops are rare, usually bad -- repeating\n",
    "\n",
    "ratings = [5,5,6,7,8,1]\n",
    "\n",
    "while len(ratings) > 0:\n",
    "    print(ratings.pop())    # remove last one\n",
    "    \n",
    "    "
   ]
  },
  {
   "cell_type": "code",
   "execution_count": 37,
   "metadata": {
    "graffitiCellId": "id_pm4zqhl",
    "slideshow": {
     "slide_type": "fragment"
    }
   },
   "outputs": [
    {
     "data": {
      "text/plain": [
       "[]"
      ]
     },
     "execution_count": 37,
     "metadata": {},
     "output_type": "execute_result"
    }
   ],
   "source": [
    "ratings"
   ]
  },
  {
   "cell_type": "markdown",
   "metadata": {
    "graffitiCellId": "id_ouhbx0j",
    "slideshow": {
     "slide_type": "skip"
    }
   },
   "source": [
    "###### Highlight the Python code and Click Play to execute the code snippet"
   ]
  },
  {
   "cell_type": "code",
   "execution_count": 38,
   "metadata": {
    "graffitiCellId": "id_8w2rtir",
    "slideshow": {
     "slide_type": "subslide"
    }
   },
   "outputs": [
    {
     "name": "stdout",
     "output_type": "stream",
     "text": [
      "5\n",
      "5\n",
      "6\n",
      "7\n",
      "8\n",
      "1\n"
     ]
    },
    {
     "data": {
      "text/plain": [
       "[5, 5, 6, 7, 8, 1]"
      ]
     },
     "execution_count": 38,
     "metadata": {},
     "output_type": "execute_result"
    }
   ],
   "source": [
    "# for loop -- data processing loop\n",
    "\n",
    "ratings = [5,5,6,7,8,1]\n",
    "\n",
    "for element in ratings:      # for name-of-each-element  in source-data-input\n",
    "    print(element)           # algorithm for processing each-element\n",
    "    \n",
    "ratings"
   ]
  },
  {
   "cell_type": "markdown",
   "metadata": {},
   "source": [
    "## Comprehensions!"
   ]
  },
  {
   "cell_type": "markdown",
   "metadata": {},
   "source": [
    "## Exercise: FizzBuzz Test\n",
    "* Write a program that prints numbers from 1 to 100. \n",
    "* For multiples of three print “Fizz” instead of the number\n",
    "* For the multiples of five print “Buzz”.\n",
    "* For numbers which are multiples of both three and five print “FizzBuzz”.\"\n",
    "\n",
    "__Scoring__: (200 - number of characters in code)/100\n",
    "\n",
    "* If finished: output all elements to a list and count the number you have of each element.\n",
    "* If doubly finished, try to do the same for the numbers between -50 and 50"
   ]
  },
  {
   "cell_type": "markdown",
   "metadata": {},
   "source": [
    "# Classes\n",
    "\n",
    "Classes are a central component of OOP. They allow you to define your own objects, complete with their own methods and attributes. These can be useful when you wish to create a structure carrying out a number of related functions.\n",
    "\n",
    "Below, we define a simple class which containing a print method."
   ]
  },
  {
   "cell_type": "code",
   "execution_count": 39,
   "metadata": {
    "scrolled": true
   },
   "outputs": [
    {
     "name": "stdout",
     "output_type": "stream",
     "text": [
      "<class '__main__.Simple'>\n",
      "3\n",
      "3\n",
      "17\n",
      "this is new\n"
     ]
    },
    {
     "data": {
      "text/plain": [
       "['__class__',\n",
       " '__delattr__',\n",
       " '__dict__',\n",
       " '__dir__',\n",
       " '__doc__',\n",
       " '__eq__',\n",
       " '__format__',\n",
       " '__ge__',\n",
       " '__getattribute__',\n",
       " '__gt__',\n",
       " '__hash__',\n",
       " '__init__',\n",
       " '__init_subclass__',\n",
       " '__le__',\n",
       " '__lt__',\n",
       " '__module__',\n",
       " '__ne__',\n",
       " '__new__',\n",
       " '__reduce__',\n",
       " '__reduce_ex__',\n",
       " '__repr__',\n",
       " '__setattr__',\n",
       " '__sizeof__',\n",
       " '__str__',\n",
       " '__subclasshook__',\n",
       " '__weakref__',\n",
       " 'print_method']"
      ]
     },
     "execution_count": 39,
     "metadata": {},
     "output_type": "execute_result"
    }
   ],
   "source": [
    "class Simple:\n",
    "    def __init__(self):\n",
    "        self.value = 3\n",
    "    def print_method(self):\n",
    "        print(self.value)\n",
    "\n",
    "#Instantiate Class\n",
    "simple_class = Simple()\n",
    "\n",
    "# Observe type\n",
    "print(type(simple_class))\n",
    "\n",
    "# Print attribute/value\n",
    "print(simple_class.value)\n",
    "\n",
    "# use method\n",
    "simple_class.print_method()\n",
    "\n",
    "# Change attribute\n",
    "simple_class.value = 17\n",
    "\n",
    "# print again\n",
    "simple_class.print_method()\n",
    "\n",
    "# Add new attribute\n",
    "simple_class.new_var = 'this is new'\n",
    "\n",
    "print(simple_class.new_var)\n",
    "\n",
    "# Familiar friends\n",
    "dir(Simple)"
   ]
  },
  {
   "cell_type": "markdown",
   "metadata": {},
   "source": [
    "A word of warning when it comes to defining variables within a class."
   ]
  },
  {
   "cell_type": "code",
   "execution_count": 40,
   "metadata": {},
   "outputs": [
    {
     "data": {
      "text/plain": [
       "['roll over', 'play dead']"
      ]
     },
     "execution_count": 40,
     "metadata": {},
     "output_type": "execute_result"
    }
   ],
   "source": [
    "class Dog:\n",
    "\n",
    "    tricks = []             # mistaken use of a class variable\n",
    "\n",
    "    def __init__(self, name):\n",
    "        self.name = name\n",
    "\n",
    "    def add_trick(self, trick):\n",
    "        self.tricks.append(trick)\n",
    "\n",
    "d = Dog('Fido')\n",
    "e = Dog('Buddy')\n",
    "d.add_trick('roll over')\n",
    "e.add_trick('play dead')\n",
    "d.tricks                # unexpectedly shared by all dogs (you can teach every dog every trick!!!! No matter how old)"
   ]
  },
  {
   "cell_type": "markdown",
   "metadata": {},
   "source": [
    "We can build on the above, defining variables which we wish to be defined on instantiation"
   ]
  },
  {
   "cell_type": "code",
   "execution_count": 41,
   "metadata": {},
   "outputs": [
    {
     "name": "stdout",
     "output_type": "stream",
     "text": [
      "essential_arg\t: We have to define our essential arg \n",
      "inessential_arg\t: We just have this arg by default \n",
      "value\t: 3\n",
      "3\n",
      "12\n"
     ]
    }
   ],
   "source": [
    "class LessSimple:\n",
    "    \n",
    "    def __init__(self, essential_arg):\n",
    "        self.essential_arg = essential_arg\n",
    "        self.inessential_arg = 'We just have this arg by default'\n",
    "        self.value = 3\n",
    "        \n",
    "    def print_method(self):\n",
    "        print('essential_arg\\t:', self.essential_arg,\n",
    "              '\\ninessential_arg\\t:', self.inessential_arg,\n",
    "              '\\nvalue\\t:', self.value)\n",
    "        \n",
    "    def mult_by_3(self, number):\n",
    "        return number * 3\n",
    "        \n",
    "ls = LessSimple(\"We have to define our essential arg\")\n",
    "ls.print_method()\n",
    "print(ls.value)\n",
    "print(ls.mult_by_3(4))"
   ]
  },
  {
   "cell_type": "markdown",
   "metadata": {},
   "source": [
    "## Exercise:\n",
    "* Define a class which describes a pen, with a single attribute/value and single a method which adds a hyphen to a list"
   ]
  },
  {
   "cell_type": "markdown",
   "metadata": {
    "graffitiCellId": "id_fg55b23",
    "slideshow": {
     "slide_type": "slide"
    }
   },
   "source": [
    "## Libraries\n",
    "* import to include a library\n",
    "* == python file which defines some functions (etc.)\n"
   ]
  },
  {
   "cell_type": "markdown",
   "metadata": {},
   "source": [
    "## Importing Your Own Modules"
   ]
  },
  {
   "cell_type": "code",
   "execution_count": 42,
   "metadata": {},
   "outputs": [
    {
     "ename": "ModuleNotFoundError",
     "evalue": "No module named 'mymodule'",
     "output_type": "error",
     "traceback": [
      "\u001b[0;31m---------------------------------------------------------------------------\u001b[0m",
      "\u001b[0;31mModuleNotFoundError\u001b[0m                       Traceback (most recent call last)",
      "\u001b[0;32m<ipython-input-42-435808cb65ec>\u001b[0m in \u001b[0;36m<module>\u001b[0;34m\u001b[0m\n\u001b[0;32m----> 1\u001b[0;31m \u001b[0;32mimport\u001b[0m \u001b[0mmymodule\u001b[0m \u001b[0;32mas\u001b[0m \u001b[0mm\u001b[0m\u001b[0;34m\u001b[0m\u001b[0;34m\u001b[0m\u001b[0m\n\u001b[0m\u001b[1;32m      2\u001b[0m \u001b[0;34m\u001b[0m\u001b[0m\n\u001b[1;32m      3\u001b[0m \u001b[0mic\u001b[0m \u001b[0;34m=\u001b[0m \u001b[0mm\u001b[0m\u001b[0;34m.\u001b[0m\u001b[0mImportedClass\u001b[0m\u001b[0;34m(\u001b[0m\u001b[0;34m)\u001b[0m\u001b[0;34m\u001b[0m\u001b[0;34m\u001b[0m\u001b[0m\n\u001b[1;32m      4\u001b[0m \u001b[0;34m\u001b[0m\u001b[0m\n\u001b[1;32m      5\u001b[0m \u001b[0mic\u001b[0m\u001b[0;34m.\u001b[0m\u001b[0mgive_proof\u001b[0m\u001b[0;34m(\u001b[0m\u001b[0;34m)\u001b[0m\u001b[0;34m\u001b[0m\u001b[0;34m\u001b[0m\u001b[0m\n",
      "\u001b[0;31mModuleNotFoundError\u001b[0m: No module named 'mymodule'"
     ]
    }
   ],
   "source": [
    "import mymodule as m\n",
    "\n",
    "ic = m.ImportedClass()\n",
    "\n",
    "ic.give_proof()\n",
    "\n",
    "m.imported_method()\n",
    "\n",
    "print(type(ic))"
   ]
  },
  {
   "cell_type": "markdown",
   "metadata": {},
   "source": [
    "## Importing Other Modules"
   ]
  },
  {
   "cell_type": "code",
   "execution_count": null,
   "metadata": {
    "graffitiCellId": "id_pi34bhr",
    "slideshow": {
     "slide_type": "fragment"
    }
   },
   "outputs": [],
   "source": [
    "import os\n",
    "os.listdir('.')"
   ]
  },
  {
   "cell_type": "code",
   "execution_count": null,
   "metadata": {
    "graffitiCellId": "id_vqdaa06",
    "slideshow": {
     "slide_type": "fragment"
    }
   },
   "outputs": [],
   "source": [
    "import sys\n",
    "sys.platform"
   ]
  },
  {
   "cell_type": "code",
   "execution_count": null,
   "metadata": {
    "graffitiCellId": "id_x9q0aei",
    "slideshow": {
     "slide_type": "fragment"
    }
   },
   "outputs": [],
   "source": [
    "import re\n",
    "quote = \"Be the change you wish to see in the etc.\"\n",
    "print(quote)\n",
    "re.findall(r\"\\w+\", quote)  # r will escape all backslashes, so they arent interpred as, eg., new lines"
   ]
  },
  {
   "cell_type": "code",
   "execution_count": null,
   "metadata": {
    "graffitiCellId": "id_9stkdvn",
    "slideshow": {
     "slide_type": "fragment"
    }
   },
   "outputs": [],
   "source": [
    "import numpy as np\n",
    "import pandas as pd\n",
    "import matplotlib.pyplot as plt  \n",
    "\n",
    "# std. aliases which make using libs easier\n",
    "\n",
    "fast_array = np.array([1, 2, 3])\n",
    "table = pd.DataFrame(\n",
    "    {\n",
    "        \"ages\": [10, 18, 30],\n",
    "        \"weights\": [50, 70, 80]\n",
    "    }\n",
    ")"
   ]
  },
  {
   "cell_type": "code",
   "execution_count": null,
   "metadata": {
    "graffitiCellId": "id_1i25y5x",
    "slideshow": {
     "slide_type": "fragment"
    }
   },
   "outputs": [],
   "source": [
    "fast_array"
   ]
  },
  {
   "cell_type": "code",
   "execution_count": null,
   "metadata": {
    "graffitiCellId": "id_w2qu9ad",
    "slideshow": {
     "slide_type": "fragment"
    }
   },
   "outputs": [],
   "source": [
    "table"
   ]
  },
  {
   "cell_type": "code",
   "execution_count": null,
   "metadata": {
    "graffitiCellId": "id_h288jyg",
    "slideshow": {
     "slide_type": "fragment"
    }
   },
   "outputs": [],
   "source": [
    "plt.scatter(table[\"ages\"], table[\"weights\"])"
   ]
  },
  {
   "cell_type": "markdown",
   "metadata": {
    "graffitiCellId": "id_9lxpmum",
    "slideshow": {
     "slide_type": "subslide"
    }
   },
   "source": [
    "### Dropping Prefixes"
   ]
  },
  {
   "cell_type": "code",
   "execution_count": null,
   "metadata": {
    "graffitiCellId": "id_cpna1ah",
    "slideshow": {
     "slide_type": "fragment"
    }
   },
   "outputs": [],
   "source": [
    "from os import listdir\n",
    "from numpy.random import random as rn  # mathematicians like short names, makes math clearer\n",
    "\n",
    "listdir('.')  # this is os.listdir"
   ]
  },
  {
   "cell_type": "code",
   "execution_count": null,
   "metadata": {
    "graffitiCellId": "id_5nokkjp",
    "slideshow": {
     "slide_type": "fragment"
    }
   },
   "outputs": [],
   "source": [
    "rn() # numpy.random.random"
   ]
  }
 ],
 "metadata": {
  "graffiti": {
   "firstAuthorId": "dev",
   "id": "id_o268vaa",
   "language": "EN"
  },
  "kernelspec": {
   "display_name": "conda_python3",
   "language": "python",
   "name": "conda_python3"
  },
  "language_info": {
   "codemirror_mode": {
    "name": "ipython",
    "version": 3
   },
   "file_extension": ".py",
   "mimetype": "text/x-python",
   "name": "python",
   "nbconvert_exporter": "python",
   "pygments_lexer": "ipython3",
   "version": "3.10.13"
  }
 },
 "nbformat": 4,
 "nbformat_minor": 2
}
