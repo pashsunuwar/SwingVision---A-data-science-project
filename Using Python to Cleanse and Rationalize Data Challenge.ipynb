{
 "cells": [
  {
   "cell_type": "code",
   "execution_count": 2,
   "id": "8417099b",
   "metadata": {},
   "outputs": [],
   "source": [
    "import string"
   ]
  },
  {
   "cell_type": "code",
   "execution_count": 3,
   "id": "ebbda98d",
   "metadata": {},
   "outputs": [],
   "source": [
    "data = 'Jack and Jill were walking up the hill on the way to the Supermarket to get some mineral water when Jack tripped over a pothole in the road. He fell down and broke his smartphone. \"Oh dear!\" said Jack. Actually, he didn’t say \"Oh dear\", he used some words that Jill was sure his mother wouldn’t approve of and went on to make some descriptive comments on what he thought of the state of the roads leading up the hill. Jill was so shocked that she didn’t look where she was going and fell down, too, tumbling all the way down the hill. Jack got up and went home to mend his phone. Jill suggested using her granny’s remedy of vinegar and brown paper to fix the phone. Jack replied with a comment that got him grounded for a week during which time he repaired his phone with duct tape and superglue but it was never the same again.'\n"
   ]
  },
  {
   "cell_type": "code",
   "execution_count": 11,
   "id": "a74ad3f9",
   "metadata": {},
   "outputs": [
    {
     "name": "stdout",
     "output_type": "stream",
     "text": [
      "Jack and jill were walking up the hill on the way to the supermarket to get some mineral water when jack tripped over a pothole in the road  He fell down and broke his smartphone  \"oh dear!\" said jack  Actually, he didn’t say \"oh dear\", he used some words that jill was sure his mother wouldn’t approve of and went on to make some descriptive comments on what he thought of the state of the roads leading up the hill  Jill was so shocked that she didn’t look where she was going and fell down, too, tumbling all the way down the hill  Jack got up and went home to mend his phone  Jill suggested using her granny’s remedy of vinegar and brown paper to fix the phone  Jack replied with a comment that got him grounded for a week during which time he repaired his phone with duct tape and superglue but it was never the same again.\n"
     ]
    }
   ],
   "source": [
    "def ocr_format(text):\n",
    "    sentences = text.split('. ')\n",
    "    formatted_sentences = []\n",
    "    \n",
    "    for sentence in sentences:\n",
    "        sentence = sentence.capitalize()\n",
    "        sentence = sentence.replace(';', '.')\n",
    "        formatted_sentences.append(sentence)\n",
    "        sentence = ''.join(char for char, _ in zip(sentence, sentence[1:] + ' ') if char not in string.punctuation)\n",
    "\n",
    "        \n",
    "    formatted_text = '  '.join(formatted_sentences)\n",
    "    \n",
    "    return formatted_text\n",
    "\n",
    "if __name__ == '__main__':\n",
    "    print(ocr_format(data))\n",
    "       \n",
    "    "
   ]
  },
  {
   "cell_type": "code",
   "execution_count": 52,
   "id": "35719530",
   "metadata": {},
   "outputs": [
    {
     "ename": "IndentationError",
     "evalue": "unexpected indent (3375652568.py, line 5)",
     "output_type": "error",
     "traceback": [
      "\u001b[1;36m  Cell \u001b[1;32mIn[52], line 5\u001b[1;36m\u001b[0m\n\u001b[1;33m    '''\u001b[0m\n\u001b[1;37m    ^\u001b[0m\n\u001b[1;31mIndentationError\u001b[0m\u001b[1;31m:\u001b[0m unexpected indent\n"
     ]
    }
   ],
   "source": [
    "def ocr_format(text): \n",
    "\n",
    "     '''\n",
    "    Return a string containing the text formatted as follows:\n",
    "    - Sentences must start with a capital letter.\n",
    "    - Sentences must be separated by two spaces.\n",
    "    - Commas must be followed by a single space.\n",
    "    - Semi-colons must be replaced with full stops.\n",
    "    - Duplicate punctuation must be removed.\n",
    "\n",
    "    Hint: You will need to write a lookup list into your code\n",
    "          so that you can check for proper names and ensure that\n",
    "          they are capitalised appropriately.\n",
    "\n",
    "    Arguments\n",
    "    text: a string of text received from the OCR\n",
    "\n",
    "    Examples\n",
    "    ocr_format(data) returns the following formatted string\n",
    "    'Jack and Jill were walking up the hill on the way to the Supermarket to get some mineral water when Jack tripped over a pothole in the road.  He fell down and broke his smartphone.  \"Oh dear!\" said Jack.  Actually, he didn’t say \"Oh dear\", he used some words that Jill was sure his mother wouldn’t approve of and went on to make some descriptive comments on what he thought of the state of the roads leading up the hill.  Jill was so shocked that she didn’t look where she was going and fell down, too, tumbling all the way down the hill.  Jack got up and went home to mend his phone.  Jill suggested using her granny’s remedy of vinegar and brown paper to fix the phone.  Jack replied with a comment that got him grounded for a week during which time he repaired his phone with duct tape and superglue but it was never the same again.  '\n",
    "    '''\n",
    "        \n",
    "\n"
   ]
  },
  {
   "cell_type": "code",
   "execution_count": 69,
   "id": "d8094b54",
   "metadata": {},
   "outputs": [
    {
     "name": "stdout",
     "output_type": "stream",
     "text": [
      "Jack and Jill were walking up the hill on the way to the Supermarket to get some mineral water when Jack tripped\n"
     ]
    }
   ],
   "source": [
    "# Return a string containing the text formatted as follows:\n",
    "#   Sentences must start with a capital letter\n",
    "\n",
    "sentence =  'jack and jill were walking up the hill on the way to the Supermarket to get some mineral water when Jack tripped'\n",
    "\n",
    "proper_noun = ['jack', 'jill']\n",
    "\n",
    "def captialize_nouns(sentence):\n",
    "    for name in proper_noun:\n",
    "        sentence = sentence.replace(name.lower(), name.capitalize())\n",
    "    return sentence\n",
    "\n",
    "correct_nouns = captialize_nouns(sentence)\n",
    "print(correct_nouns)\n",
    "\n"
   ]
  },
  {
   "cell_type": "code",
   "execution_count": 70,
   "id": "c26fbcbb",
   "metadata": {},
   "outputs": [
    {
     "name": "stdout",
     "output_type": "stream",
     "text": [
      "Jack and Jill were walking up the hill on the way to the Supermarket to get some mineral water when Jack tripped over a pothole in the road.  He fell down and broke his smartphone.  \"Oh dear!\" said Jack.  Actually, he didn’t say \"Oh dear\", he used some words that Jill was sure his mother wouldn’t approve of and went on to make some descriptive comments on what he thought of the state of the roads leading up the hill.  Jill was so shocked that she didn’t look where she was going and fell down, too, tumbling all the way down the hill.  Jack got up and went home to mend his phone.  Jill suggested using her granny’s remedy of vinegar and brown paper to fix the phone.  Jack replied with a comment that got him grounded for a week during which time he repaired his phone with duct tape and superglue but it was never the same again.  \n"
     ]
    }
   ],
   "source": [
    "# Return a string containing the text formatted as follows:\n",
    "#  - Duplicate punctuation must be removed.\n",
    "\n",
    "sentence =  'Jack and Jill were walking up the hill on the way to the Supermarket to get some mineral water when Jack tripped over a pothole in the road.  He fell down and broke his smartphone.  \"Oh dear!\" said Jack.  Actually, he didn’t say \"Oh dear\", he used some words that Jill was sure his mother wouldn’t approve of and went on to make some descriptive comments on what he thought of the state of the roads leading up the hill.  Jill was so shocked that she didn’t look where she was going and fell down, too, tumbling all the way down the hill.  Jack got up and went home to mend his phone.  Jill suggested using her granny’s remedy of vinegar and brown paper to fix the phone.  Jack replied with a comment that got him grounded for a week during which time he repaired his phone with duct tape and superglue but it was never the same again.  '\n",
    "\n",
    "def remove_duplicate_punctuation(sentence):\n",
    "        cleaned_sentence = \"\"\n",
    "        prev_char =''\n",
    "        for char in sentence:\n",
    "            if char not in \".!?\":\n",
    "                cleaned_sentence += char\n",
    "            elif prev_char != char:\n",
    "                cleaned_sentence += char\n",
    "            prev_char = char\n",
    "        return cleaned_sentence\n",
    "    \n",
    "no_dups = remove_duplicate_punctuation(sentence)\n",
    "print(no_dups)\n",
    "    "
   ]
  },
  {
   "cell_type": "code",
   "execution_count": null,
   "id": "e9d6a56b",
   "metadata": {},
   "outputs": [],
   "source": []
  }
 ],
 "metadata": {
  "kernelspec": {
   "display_name": "Python 3 (ipykernel)",
   "language": "python",
   "name": "python3"
  },
  "language_info": {
   "codemirror_mode": {
    "name": "ipython",
    "version": 3
   },
   "file_extension": ".py",
   "mimetype": "text/x-python",
   "name": "python",
   "nbconvert_exporter": "python",
   "pygments_lexer": "ipython3",
   "version": "3.11.5"
  }
 },
 "nbformat": 4,
 "nbformat_minor": 5
}
